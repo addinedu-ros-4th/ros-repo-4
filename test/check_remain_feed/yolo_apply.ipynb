{
 "cells": [
  {
   "cell_type": "code",
   "execution_count": null,
   "metadata": {},
   "outputs": [],
   "source": [
    "#학습 코드 \n",
    "from ultralytics import YOLO\n",
    "model = YOLO(\"yolov8m.yaml\")\n",
    "model = YOLO() \n",
    "model.train(data='data.yaml', epochs=75) #data : data.yaml파일이 위치하는 경로"
   ]
  },
  {
   "cell_type": "code",
   "execution_count": null,
   "metadata": {},
   "outputs": [],
   "source": [
    "# 추론 & 바운딩 박스 크롭 저장 \n",
    "!yolo task=detect mode=predict model=/home/addinedu/runs/detect/train31/weights/best.pt source=/home/addinedu/Desktop/yolo/qtest/* save=true save_txt=true save_crop=True"
   ]
  }
 ],
 "metadata": {
  "language_info": {
   "name": "python"
  }
 },
 "nbformat": 4,
 "nbformat_minor": 2
}
